{
 "cells": [
  {
   "cell_type": "code",
   "execution_count": null,
   "id": "ec575f5c",
   "metadata": {},
   "outputs": [],
   "source": []
  },
  {
   "cell_type": "code",
   "execution_count": 39,
   "id": "b5911d7c",
   "metadata": {},
   "outputs": [
    {
     "name": "stdout",
     "output_type": "stream",
     "text": [
      "Vowels: 12\n",
      "Spaces: 7\n",
      "Digits: 0\n"
     ]
    }
   ],
   "source": [
    "# Find the number of digits,vowels and spaces in the given string\n",
    "\n",
    "myString = \"this is the python programming batch of february\"\n",
    "vowels=0\n",
    "spaces=0\n",
    "digits=0\n",
    "\n",
    "for i in range(len(myString)):\n",
    "    if (\n",
    "        (myString[i] == 'a') \n",
    "        or (myString[i] == 'e') \n",
    "        or (myString[i] == 'i') \n",
    "        or (myString[i] == 'o') \n",
    "        or (myString[i] == 'u')\n",
    "    ):\n",
    "        vowels +=1\n",
    "    elif (\n",
    "        (myString[i] == \" \")\n",
    "    ):\n",
    "        spaces += 1\n",
    "    elif (myString[i].isdigit()):\n",
    "        digits +=1\n",
    "              \n",
    "print(\"Vowels:\", vowels)\n",
    "print(\"Spaces:\", spaces)\n",
    "print(\"Digits:\", digits)"
   ]
  },
  {
   "cell_type": "code",
   "execution_count": 32,
   "id": "40415379",
   "metadata": {},
   "outputs": [
    {
     "name": "stdout",
     "output_type": "stream",
     "text": [
      "madam\n",
      "naman\n",
      "12321\n",
      "7530\n",
      "False\n",
      "45621\n",
      "85258\n",
      "ADDydda\n"
     ]
    },
    {
     "data": {
      "text/plain": [
       "['madam', 'naman', '12321', 85258, 'ADDydda']"
      ]
     },
     "execution_count": 32,
     "metadata": {},
     "output_type": "execute_result"
    }
   ],
   "source": [
    "# Check if its a palindrome\n",
    "\n",
    "inputList= [\"madam\", \"naman\", \"12321\" ,\"7530\", False, 45621, 85258, \"ADDydda\"]\n",
    "outputList = []\n",
    "\n",
    "for i in inputList:\n",
    "    print(i)\n",
    "    if str(i).lower()[ : : 1] == str(i).lower()[ : : -1]:\n",
    "        outputList.append(i)\n",
    "    \n",
    "outputList"
   ]
  },
  {
   "cell_type": "code",
   "execution_count": 56,
   "id": "7e50c17b",
   "metadata": {},
   "outputs": [
    {
     "name": "stdout",
     "output_type": "stream",
     "text": [
      "Factorial of 8 - 40320\n",
      "Factorial of 3 - 6\n",
      "Factorial of 0 - 1\n",
      "Factorial of -5 - Does not exist\n",
      "Factorial of 10 - 3628800\n",
      "Factorial of 5 - 120\n"
     ]
    }
   ],
   "source": [
    "seq = (8, 3, 0, -5, 10, 5)\n",
    "\n",
    "for num in seq:\n",
    "    if num < 0:\n",
    "        print(f\"Factorial of {num} - Does not exist\")\n",
    "    else:\n",
    "        if num == 0:\n",
    "            print(f\"Factorial of {num} - 1\")\n",
    "        else:\n",
    "            fact = 1\n",
    "            for i in range(num,0,-1):\n",
    "                fact = fact * i \n",
    "            print(f\"Factorial of {num} - {fact}\")\n",
    "\n",
    "        "
   ]
  },
  {
   "cell_type": "code",
   "execution_count": null,
   "id": "0a7bad04",
   "metadata": {},
   "outputs": [],
   "source": []
  }
 ],
 "metadata": {
  "kernelspec": {
   "display_name": "Python 3 (ipykernel)",
   "language": "python",
   "name": "python3"
  },
  "language_info": {
   "codemirror_mode": {
    "name": "ipython",
    "version": 3
   },
   "file_extension": ".py",
   "mimetype": "text/x-python",
   "name": "python",
   "nbconvert_exporter": "python",
   "pygments_lexer": "ipython3",
   "version": "3.9.13"
  }
 },
 "nbformat": 4,
 "nbformat_minor": 5
}
